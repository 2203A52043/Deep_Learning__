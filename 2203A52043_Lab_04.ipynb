{
  "nbformat": 4,
  "nbformat_minor": 0,
  "metadata": {
    "colab": {
      "provenance": [],
      "authorship_tag": "ABX9TyPGUA0pikuln1pvXXmVwbry",
      "include_colab_link": true
    },
    "kernelspec": {
      "name": "python3",
      "display_name": "Python 3"
    },
    "language_info": {
      "name": "python"
    }
  },
  "cells": [
    {
      "cell_type": "markdown",
      "metadata": {
        "id": "view-in-github",
        "colab_type": "text"
      },
      "source": [
        "<a href=\"https://colab.research.google.com/github/2203A52043/Deep_Learning__/blob/main/2203A52043_Lab_04.ipynb\" target=\"_parent\"><img src=\"https://colab.research.google.com/assets/colab-badge.svg\" alt=\"Open In Colab\"/></a>"
      ]
    },
    {
      "cell_type": "code",
      "execution_count": 3,
      "metadata": {
        "colab": {
          "base_uri": "https://localhost:8080/"
        },
        "id": "_TknzrY9MXmR",
        "outputId": "c514a814-91f9-4d58-9538-06194b30a6ea"
      },
      "outputs": [
        {
          "output_type": "stream",
          "name": "stdout",
          "text": [
            "Epoch 0, Loss: 1.7504\n",
            "Final Training MSE: 0.0339\n"
          ]
        }
      ],
      "source": [
        "import numpy as np\n",
        "X_train = np.array([[0.1, 0.2, 0.3], [0.2, 0.3, 0.4], [0.3, 0.4, 0.5], [0.5, 0.6, 0.7],\n",
        "                    [0.1, 0.3, 0.5], [0.2, 0.4, 0.6], [0.3, 0.5, 0.7], [0.4, 0.6, 0.8], [0.5, 0.7, 0.1]])\n",
        "y_train = np.array([0.14, 0.2, 0.26, 0.38, 0.22, 0.28, 0.34, 0.4, 0.22])\n",
        "weights = np.random.randn(3)\n",
        "bias = np.random.randn()\n",
        "\n",
        "learning_rate = 0.01\n",
        "epochs = 100\n",
        "def compute_mse(y_true, y_pred):\n",
        "    return np.mean((y_true - y_pred) ** 2)\n",
        "for epoch in range(epochs):\n",
        "\n",
        "    y_pred = X_train.dot(weights) + bias\n",
        "    loss = compute_mse(y_train, y_pred)\n",
        "    d_loss = 2 * (y_pred - y_train) / len(y_train)\n",
        "    d_weights = X_train.T.dot(d_loss)\n",
        "    d_bias = np.sum(d_loss)\n",
        "    weights -= learning_rate * d_weights\n",
        "    bias -= learning_rate * d_bias\n",
        "    if epoch % 100 == 0:\n",
        "        print(f\"Epoch {epoch}, Loss: {loss:.4f}\")\n",
        "y_train_pred = X_train.dot(weights) + bias\n",
        "train_mse = compute_mse(y_train, y_train_pred)\n",
        "print(f\"Final Training MSE: {train_mse:.4f}\")\n"
      ]
    },
    {
      "cell_type": "code",
      "source": [
        "import numpy as np\n",
        "X_train = np.array([[0.1, 0.2, 0.3], [0.2, 0.3, 0.4], [0.3, 0.4, 0.5], [0.5, 0.6, 0.7],\n",
        "                    [0.1, 0.3, 0.5], [0.2, 0.4, 0.6], [0.3, 0.5, 0.7], [0.4, 0.6, 0.8], [0.5, 0.7, 0.1]])\n",
        "y_train = np.array([0.5349, 0.5498, 0.5646, 0.5939, 0.5548, 0.5695, 0.5842, 0.5987, 0.5548])\n",
        "weights = np.random.randn(3)\n",
        "bias = np.random.randn()\n",
        "def sigmoid(x):\n",
        "    return 1 / (1 + np.exp(-x))\n",
        "def sigmoid_derivative(x):\n",
        "    return x * (1 - x)\n",
        "learning_rate = 0.01\n",
        "epochs = 100\n",
        "def compute_mse(y_true, y_pred):\n",
        "    return np.mean((y_true - y_pred) ** 2)\n",
        "for epoch in range(epochs):\n",
        "    y_pred = sigmoid(X_train.dot(weights) + bias)\n",
        "    loss = compute_mse(y_train, y_pred)\n",
        "    d_loss = 2 * (y_pred - y_train) / len(y_train)\n",
        "    d_sigmoid = sigmoid_derivative(y_pred)\n",
        "    d_weights = X_train.T.dot(d_loss * d_sigmoid)\n",
        "    d_bias = np.sum(d_loss * d_sigmoid)\n",
        "    weights -= learning_rate * d_weights\n",
        "    bias -= learning_rate * d_bias\n",
        "    if epoch % 100 == 0:\n",
        "        print(f\"Epoch {epoch}, Loss: {loss:.4f}\")\n",
        "y_train_pred = sigmoid(X_train.dot(weights) + bias)\n",
        "train_mse = compute_mse(y_train, y_train_pred)\n",
        "print(f\"Final Training MSE: {train_mse:.4f}\")\n"
      ],
      "metadata": {
        "colab": {
          "base_uri": "https://localhost:8080/"
        },
        "id": "vY01pAmHMdA9",
        "outputId": "42980e13-064c-43d0-b7ff-2e86a9310c03"
      },
      "execution_count": 4,
      "outputs": [
        {
          "output_type": "stream",
          "name": "stdout",
          "text": [
            "Epoch 0, Loss: 0.0397\n",
            "Final Training MSE: 0.0280\n"
          ]
        }
      ]
    }
  ]
}